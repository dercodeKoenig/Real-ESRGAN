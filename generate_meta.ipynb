{
 "cells": [
  {
   "cell_type": "code",
   "execution_count": 12,
   "id": "faaca31d-2e6a-4577-80f0-9c4aa64a3f89",
   "metadata": {
    "scrolled": true
   },
   "outputs": [
    {
     "name": "stdout",
     "output_type": "stream",
     "text": [
      "nohup: ignoring input and appending output to 'nohup.out'\n"
     ]
    }
   ],
   "source": [
    "!rm meta_info.txt\n",
    "!nohup python3 scripts/generate_meta_info.py \\\n",
    "  --input \\\n",
    "    ../data/df2k-ost/train/DIV2K/DIV2K_train_HR \\\n",
    "    ../data/df2k-ost/train/Flickr2K \\\n",
    "    ../data/df2k-ost/train/OST \\\n",
    "    ../data/more-images/imgs3 \\\n",
    "    ../data/more-images/imgs2 \\\n",
    "    ../data/more-images/imgs1 \\\n",
    "    ../data/unimg/unimg-0 \\\n",
    "    ../data/unimg/unimg-1 \\\n",
    "    ../data/unimg/unimg-2 \\\n",
    "    ../data/unimg/unimg-8 \\\n",
    "  --root / / / / / / / / / / \\\n",
    "  --meta_info ./meta_info.txt"
   ]
  },
  {
   "cell_type": "code",
   "execution_count": 13,
   "id": "d9f93f31-1af5-455c-a4d5-55863b8d02ce",
   "metadata": {},
   "outputs": [
    {
     "name": "stdout",
     "output_type": "stream",
     "text": [
      "115411 meta_info.txt\n"
     ]
    }
   ],
   "source": [
    "!wc -l meta_info.txt"
   ]
  },
  {
   "cell_type": "code",
   "execution_count": null,
   "id": "2df0892b-c6b0-4c87-90d0-3f31d3726a43",
   "metadata": {},
   "outputs": [],
   "source": []
  }
 ],
 "metadata": {
  "kernelspec": {
   "display_name": "Python 3 (ipykernel)",
   "language": "python",
   "name": "python3"
  },
  "language_info": {
   "codemirror_mode": {
    "name": "ipython",
    "version": 3
   },
   "file_extension": ".py",
   "mimetype": "text/x-python",
   "name": "python",
   "nbconvert_exporter": "python",
   "pygments_lexer": "ipython3",
   "version": "3.10.12"
  }
 },
 "nbformat": 4,
 "nbformat_minor": 5
}
